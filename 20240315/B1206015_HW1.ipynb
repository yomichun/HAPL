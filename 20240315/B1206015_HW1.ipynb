{
  "nbformat": 4,
  "nbformat_minor": 0,
  "metadata": {
    "colab": {
      "provenance": []
    },
    "kernelspec": {
      "name": "python3",
      "display_name": "Python 3"
    },
    "language_info": {
      "name": "python"
    }
  },
  "cells": [
    {
      "cell_type": "code",
      "execution_count": null,
      "metadata": {
        "colab": {
          "base_uri": "https://localhost:8080/"
        },
        "id": "Jzt0y7td47xH",
        "outputId": "f82e9cba-d7c8-41d1-b755-76e56deaa258"
      },
      "outputs": [
        {
          "output_type": "stream",
          "name": "stdout",
          "text": [
            "I'm a student\n"
          ]
        }
      ],
      "source": [
        "a=\"I'm a student\"\n",
        "print(a)"
      ]
    },
    {
      "cell_type": "code",
      "source": [
        "x1=float(input(\"x1=\"))\n",
        "x2=float(input(\"x2=\"))\n",
        "y1=float(input(\"y1=\"))\n",
        "y2=float(input(\"y2=\"))\n",
        "AB=((x1-x2)**2+(y1-y2)**2)**0.5\n",
        "print(\"AB=\",AB)"
      ],
      "metadata": {
        "id": "Sf5SCn_o5SP7",
        "colab": {
          "base_uri": "https://localhost:8080/"
        },
        "outputId": "8f7b5189-e4bb-467a-bc4d-a204518e64ee"
      },
      "execution_count": 1,
      "outputs": [
        {
          "output_type": "stream",
          "name": "stdout",
          "text": [
            "x1=7.0\n",
            "x2=5.0\n",
            "y1=-8.0\n",
            "y2=-4.0\n",
            "AB= 4.47213595499958\n"
          ]
        }
      ]
    },
    {
      "cell_type": "code",
      "source": [
        "a=float(input(\"體重(kg)\"))\n",
        "b=float(input(\"身高(m)\"))\n",
        "a/=b**2\n",
        "print(\"BMI=\",a)"
      ],
      "metadata": {
        "id": "MHcCzQn69gCP",
        "colab": {
          "base_uri": "https://localhost:8080/"
        },
        "outputId": "15ffe340-7973-49bc-c770-9fe70adc5831"
      },
      "execution_count": null,
      "outputs": [
        {
          "output_type": "stream",
          "name": "stdout",
          "text": [
            "體重(kg)55.0\n",
            "身高(m)1.55\n",
            "BMI= 22.892819979188342\n"
          ]
        }
      ]
    }
  ]
}