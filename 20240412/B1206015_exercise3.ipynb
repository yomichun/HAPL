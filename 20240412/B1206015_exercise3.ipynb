{
  "nbformat": 4,
  "nbformat_minor": 0,
  "metadata": {
    "colab": {
      "provenance": []
    },
    "kernelspec": {
      "name": "python3",
      "display_name": "Python 3"
    },
    "language_info": {
      "name": "python"
    }
  },
  "cells": [
    {
      "cell_type": "code",
      "execution_count": null,
      "metadata": {
        "id": "b-TsJMrOvdAz",
        "colab": {
          "base_uri": "https://localhost:8080/"
        },
        "outputId": "3bfc751f-e0d2-4f60-c5c7-b76fcf401cef"
      },
      "outputs": [
        {
          "output_type": "stream",
          "name": "stdout",
          "text": [
            "體重(kg)60\n",
            "身高(cm)155\n",
            "BMI: 24.97398543184183\n",
            "體位:過重\n"
          ]
        }
      ],
      "source": [
        "a=float(input(\"體重(kg)\"))\n",
        "b=float(input(\"身高(cm)\"))\n",
        "a/=(b/100)**2\n",
        "print(\"BMI:\",a)\n",
        "if a<18.5:\n",
        " print(\"體位:過輕\")\n",
        "elif 18.5<=a<24:\n",
        " print(\"體位:適中\")\n",
        "elif 24<=a<27:\n",
        " print(\"體位:過重\")\n",
        "else:\n",
        " print(\"體位:肥胖\")"
      ]
    },
    {
      "cell_type": "code",
      "source": [
        "a=int(input(\"請輸入第一個數字\"))\n",
        "b=input(\"請輸入運算符號\")\n",
        "c=int(input(\"請輸入第二個數字\"))\n",
        "if b==\"+\":\n",
        " print(a+c)\n",
        "elif b==\"-\":\n",
        " print(a-c)\n",
        "elif b==\"*\":\n",
        " print(a*c)\n",
        "else:\n",
        " print(a/c)"
      ],
      "metadata": {
        "colab": {
          "base_uri": "https://localhost:8080/"
        },
        "id": "RZLBevCH2N_B",
        "outputId": "56239922-e8b8-46c3-8e9d-46c05d417d17"
      },
      "execution_count": null,
      "outputs": [
        {
          "output_type": "stream",
          "name": "stdout",
          "text": [
            "請輸入第一個數字9\n",
            "請輸入運算符號-\n",
            "請輸入第二個數字5\n",
            "4\n"
          ]
        }
      ]
    }
  ]
}