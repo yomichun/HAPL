{
  "nbformat": 4,
  "nbformat_minor": 0,
  "metadata": {
    "colab": {
      "provenance": []
    },
    "kernelspec": {
      "name": "python3",
      "display_name": "Python 3"
    },
    "language_info": {
      "name": "python"
    }
  },
  "cells": [
    {
      "cell_type": "code",
      "execution_count": 4,
      "metadata": {
        "colab": {
          "base_uri": "https://localhost:8080/"
        },
        "id": "HeAOR_7r_sdO",
        "outputId": "c917c56c-1dfa-4089-88b0-d84d347c3106"
      },
      "outputs": [
        {
          "output_type": "stream",
          "name": "stdout",
          "text": [
            "輸入年份2040\n",
            "閏年\n"
          ]
        }
      ],
      "source": [
        "a=int(input(\"輸入年份\"))\n",
        "if a<=1582:\n",
        " if a%4==0:\n",
        "  print(\"閏年\")\n",
        " else:\n",
        "  print(\"平年\")\n",
        "else:\n",
        " if a%4==0:\n",
        "  if a%100==0:\n",
        "   if a%400==0:\n",
        "    print(\"閏年\")\n",
        "   else:\n",
        "    print(\"平年\")\n",
        "  else:\n",
        "   print(\"閏年\")\n",
        " else:\n",
        "  print(\"平年\")"
      ]
    }
  ]
}