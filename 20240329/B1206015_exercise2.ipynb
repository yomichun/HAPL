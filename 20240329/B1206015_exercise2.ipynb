{
  "nbformat": 4,
  "nbformat_minor": 0,
  "metadata": {
    "colab": {
      "provenance": []
    },
    "kernelspec": {
      "name": "python3",
      "display_name": "Python 3"
    },
    "language_info": {
      "name": "python"
    }
  },
  "cells": [
    {
      "cell_type": "code",
      "execution_count": null,
      "metadata": {
        "id": "hI_cL95fm9OY",
        "colab": {
          "base_uri": "https://localhost:8080/"
        },
        "outputId": "a76b3405-5622-4000-e65d-a9d6ce64581e"
      },
      "outputs": [
        {
          "output_type": "stream",
          "name": "stdout",
          "text": [
            "{'姓名': '陳宥君', '性別': '女', '作業分數': ['100', '100', '90'], '學號': 'B1206015'}\n",
            "96.66666666666667\n"
          ]
        }
      ],
      "source": [
        "a={'姓名':'陳宥君','性別':'女','作業分數':['80','95','100','90']}\n",
        "b={'學號':'B1206015'}\n",
        "c={**a,**b}\n",
        "c['作業分數'][1]='100'\n",
        "del c['作業分數'][0]\n",
        "print(c)\n",
        "d=c.get('作業分數')\n",
        "e=int(d[0])\n",
        "f=int(d[1])\n",
        "g=int(d[2])\n",
        "h=(e+f+g)/3\n",
        "print(h)"
      ]
    }
  ]
}