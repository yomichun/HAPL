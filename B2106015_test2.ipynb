{
  "nbformat": 4,
  "nbformat_minor": 0,
  "metadata": {
    "colab": {
      "provenance": []
    },
    "kernelspec": {
      "name": "python3",
      "display_name": "Python 3"
    },
    "language_info": {
      "name": "python"
    }
  },
  "cells": [
    {
      "cell_type": "code",
      "execution_count": null,
      "metadata": {
        "colab": {
          "base_uri": "https://localhost:8080/"
        },
        "id": "Wk6-_0lE0THX",
        "outputId": "756bda5d-8ee2-4794-e1d5-f3bb015d40d7"
      },
      "outputs": [
        {
          "output_type": "stream",
          "name": "stdout",
          "text": [
            "Answer= 495\n"
          ]
        }
      ],
      "source": [
        "x=2\n",
        "y=1\n",
        "z=(2*x+y)*(100-y)\n",
        "print(\"Answer=\",z)"
      ]
    },
    {
      "cell_type": "code",
      "source": [
        "y=4\n",
        "z=100/(2*y+1)\n",
        "print(\"Answer=\",z)"
      ],
      "metadata": {
        "colab": {
          "base_uri": "https://localhost:8080/"
        },
        "id": "hQ4PjWsa2Ash",
        "outputId": "6dd0c881-fb72-4223-cfc7-84dd7c748f14"
      },
      "execution_count": null,
      "outputs": [
        {
          "output_type": "stream",
          "name": "stdout",
          "text": [
            "Answer= 11.11111111111111\n"
          ]
        }
      ]
    }
  ]
}