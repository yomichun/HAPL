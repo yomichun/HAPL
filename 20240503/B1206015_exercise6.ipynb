{
  "nbformat": 4,
  "nbformat_minor": 0,
  "metadata": {
    "colab": {
      "provenance": []
    },
    "kernelspec": {
      "name": "python3",
      "display_name": "Python 3"
    },
    "language_info": {
      "name": "python"
    }
  },
  "cells": [
    {
      "cell_type": "code",
      "source": [
        "x=int(input(\"聖誕樹層數:\"))\n",
        "def a(x):\n",
        " for i in range(x):\n",
        "  for m in range(x-i):\n",
        "   print(' ',end='')\n",
        "  for n in range(2*i+1):\n",
        "   print('*',end='')\n",
        "  print()\n",
        " for c in range(5):\n",
        "  d='***'\n",
        "  print(' '*int((2*x-4)/2),d)\n",
        "a(x)"
      ],
      "metadata": {
        "colab": {
          "base_uri": "https://localhost:8080/"
        },
        "id": "L05UIe3SK_yV",
        "outputId": "5d728761-bdd3-4e54-8a45-86c6789e9c19"
      },
      "execution_count": null,
      "outputs": [
        {
          "output_type": "stream",
          "name": "stdout",
          "text": [
            "聖誕樹層數:9\n",
            "         *\n",
            "        ***\n",
            "       *****\n",
            "      *******\n",
            "     *********\n",
            "    ***********\n",
            "   *************\n",
            "  ***************\n",
            " *****************\n",
            "        ***\n",
            "        ***\n",
            "        ***\n",
            "        ***\n",
            "        ***\n"
          ]
        }
      ]
    },
    {
      "cell_type": "code",
      "source": [
        "def output(a,b):\n",
        "   c=b/(a/100)**2\n",
        "   return c\n",
        "def bmi(c):\n",
        "   if c<18.5:\n",
        "    return \"體位:過輕\"\n",
        "   elif 18.5<=c<24:\n",
        "    return \"體位:適中\"\n",
        "   elif 24<=c<27:\n",
        "    return \"體位:過重\"\n",
        "   else:\n",
        "    return \"體位:肥胖\"\n",
        "try:\n",
        "  a=float(input(\"身高(cm)\"))\n",
        "  b=float(input(\"體重(kg)\"))\n",
        "  c=output(a,b)\n",
        "  print(\"BMI:\",c)\n",
        "  print(bmi(c))\n",
        "except:\n",
        "  print('輸入內容錯誤')"
      ],
      "metadata": {
        "colab": {
          "base_uri": "https://localhost:8080/"
        },
        "id": "MGlB2UMbvPWz",
        "outputId": "b909c574-1ece-4506-cfb1-01fecbf8a984"
      },
      "execution_count": 29,
      "outputs": [
        {
          "output_type": "stream",
          "name": "stdout",
          "text": [
            "身高(cm)155\n",
            "體重(kg)g\n",
            "輸入內容錯誤\n"
          ]
        }
      ]
    }
  ]
}